{
 "cells": [
  {
   "attachments": {},
   "cell_type": "markdown",
   "metadata": {},
   "source": [
    "En esta evaluación tendremos que crearnos una clase. Estamos trabajando para una editorial y tienen muchos ficheros de tipo .txt. Quieren hacer un estudio de palabras de los textos que tienen, para ello nos piden que nos creemos una clase que:\n",
    "\n",
    "- Reciba dos parámetros en el método constructor: \n",
    "\n",
    "    - La ruta donde se encuentra el fichero\n",
    "    - El nombre y la extensión del fichero que quieren abrir. \n",
    "\n",
    "- Tenga un método que nos abra el fichero en python, como un único *string*. Este método tiene que ser capaz de abrir cualquier tipo de fichero y que este ubicado en cualquier ubicación de nuestros ordenadores. \n",
    "\n",
    "- Tenga un método que lea un número \"X\" de palabras del texto. En este caso, el número de palabras que queremos leer debe ser un parámetro de este método. En este código deberemos incluir:\n",
    "    - Que si nos pasan como valor de número de palabras un número que no sea *integer*, nos salga un mensaje por pantalla que nos avise que la operación no se pueden hacer ya que necesitamos que sea un número *integer*. \n",
    "    \n",
    "\n",
    "\n",
    "- Similar que en el paso anterior, crea un método que nos permita leer \"X\" lineas del texto. En este caso, el número de lineas que quiere leer el usuario no debe ser un parámetro del método. Tendremos que:\n",
    "\n",
    "    - Crear un *input* en el método que le pregunte al usuario cuántas líneas quiere leer\n",
    "\n",
    "    - Que tenga un control de errores por si el valor que nos pasa el usuario no es correcto, como por ejemplo un valor decimal. \n",
    "\n",
    "    - Además tenemos que tener en cuenta en el código que puede que el usuario quiera leer todas las líneas del archivo. Incluye en el programa el código necesario para que si el usuario nos indica que quiere leer todas las líneas el programa lo pueda hacer.  \n",
    "\n",
    "    **BONUS** En vez de devolver el resultado como una lista de *string* devuelvelo como un único *string*. \n",
    "\n",
    "\n",
    "- En este punto de la evaluación ya os habréis dado cuenta que en este fichero las primeras lineas no corresponden al quijote. Pero entonces... ¿en qué punto empieza el libro del quijote? En concreto, el libro está comprendido entre la lineas 1780 y 74276. Crea un método que solo nos devuelva el contenido del libro, sin la introducción inicial.\n",
    "\n",
    "-  Crea un último método en la clase que nos permita extraer las veces que aparece determinada palabra en el libro. Para eso este método deberá: \n",
    "\n",
    "    - Recibir la palabra o palabras que quiere buscar el usuario en el texto. \n",
    "    - Devolver el número de veces que aparece dicha palabra. \n",
    "    - Para confirmar que vuestro código, deberéis buscar las siguientes palabras como ejemplos de este método: \n",
    "\n",
    "        - Quijote, debemos tener en cuenta que aparezca en mayúscula o en minúscula, es decir, \"Quijote\" o \"quijote\"\n",
    "\n",
    "        - Alonso,  debemos tener en cuenta que aparezca en mayúscula o en minúscula, es decir, \"Alonso\" o \"alonso\"\n",
    "\n",
    "        - Don Quijote, debemos tener en cuenta que aparezca en mayúscula o en minúscula, es decir, \"Don Quijote\" o \"don quijote\"\n",
    "    \n",
    "- **Nota**: Puede que tengáis algunos problemas para abrir el fichero, esto es por el `encoding` que tiene. Para solucionar este problema deberéis usar un encoding = \"latin-1\"\n",
    "\n",
    "- **Nota**: El fichero de `quijote.txt` debe encontrarse en una carpeta llamada `data`, diferente de donde se encuentra este fichero jupyter con la resolución.\n"
   ]
  },
  {
   "cell_type": "code",
   "execution_count": 14,
   "metadata": {},
   "outputs": [],
   "source": [
    "import re\n",
    "\n",
    "class Estudio_textos:\n",
    "    \"\"\"Esta clase se ha creado para automatizar la apertura y estudio de archivos.\n",
    "    Los parametros necesarios para instanciar la clase son:\n",
    "        - La ruta relativa (formato string)\n",
    "        - El nombre de fichero en formato string)\"\"\"\n",
    "    \n",
    "\n",
    "    def __init__(self, ruta, nombre_fichero, extension= \".txt\"):\n",
    "        \n",
    "        self.ruta = ruta\n",
    "        self.nombre_fichero = nombre_fichero\n",
    "        self.extension = extension\n",
    "\n",
    "\n",
    "\n",
    "    def leer_fichero(self): ## esta funcion nos abre el archivo como un unico string\n",
    "\n",
    "        \"\"\"Esta función abre el archivo en formato único string\"\"\"\n",
    "\n",
    "\n",
    "        with open(f\"{self.ruta}/{self.nombre_fichero}{self.extension}\",'r', encoding= \"latin-1\") as file:\n",
    "            archivo = file.read()\n",
    "\n",
    "        return archivo\n",
    "    \n",
    "    \n",
    "    \n",
    "    def leer_palabras(self, numero_palabras): ## esta funcion lee las palabras que indiquemos del archivo\n",
    "\n",
    "        if not isinstance(numero_palabras, int):\n",
    "\n",
    "            print(\"Error: el número de palabras debe ser un número entero.\")\n",
    "            return\n",
    "        \n",
    "        archivo2 = self.leer_fichero()  ###abrimos el archivo de antes\n",
    "        separo_palabras = archivo2.split()  ###lo separamos por palabras\n",
    "        resultado = separo_palabras[:numero_palabras] ### accedemos al numero de palabras que piden\n",
    "\n",
    "        return  \" \".join(resultado) ## unimos el resultado en un solo string\n",
    "    \n",
    "\n",
    "    def leer_lineas(self):  ## esta funcion lee las lineas que indiquemos del archivo\n",
    "\n",
    "        numero_lineas = int(input(\"Cuantas lineas quieres leer\")) ### creamos el input pidiendo numero de lineas\n",
    "\n",
    "        if not isinstance(numero_lineas, int):\n",
    "\n",
    "            print(\"Error: el número de lineas debe ser un número entero.\") ## control de errores\n",
    "            return\n",
    "        \n",
    "        \n",
    "        elif numero_lineas >= 1:\n",
    "\n",
    "            with open(f\"{self.ruta}/{self.nombre_fichero}{self.extension}\",'r', encoding= \"latin-1\") as file:\n",
    "                \n",
    "                contador = 0  ### creamos un bucle while para que se impriman lineas hasta llegar al numero indicado por el usuario\n",
    "             \n",
    "                while contador < numero_lineas:\n",
    "                    print(file.readline())\n",
    "                    contador += 1\n",
    "                         \n",
    "\n",
    "        elif numero_lineas > len(file.read()):  ## creamos una condicion por si el numero de lineas pedido es mayor a las del documento\n",
    "            print(\"El numero de lineas es mayor que el documento\")\n",
    "        \n",
    "        else: \n",
    "            print(\"El valor introducido no es correcto\")\n",
    "\n",
    "    def leer_libro(self):    ### esta funcion nos lee solo el libro sin la introduccion.\n",
    "\n",
    "        with open(f\"{self.ruta}/{self.nombre_fichero}{self.extension}\",'r', encoding= \"latin-1\") as file:\n",
    "            archivo_completo = file.readlines()\n",
    "            libro = archivo_completo[1780:74277]\n",
    "\n",
    "        return libro\n",
    "    \n",
    "    def numero_veces_palabra(self):\n",
    "\n",
    "        palabra_a_buscar = input(\"que palabras quieres buscar\")\n",
    "        palabra_a_buscar_minuscula = palabra_a_buscar.lower()\n",
    "        \n",
    "\n",
    "        with open(f\"{self.ruta}/{self.nombre_fichero}{self.extension}\",'r', encoding= \"latin-1\") as file:\n",
    "            archivo_completo2 = file.readlines()\n",
    "            archivo_string = \" \".join(archivo_completo2)\n",
    "            archivo_minuscula = archivo_string.lower()\n",
    "\n",
    "\n",
    "        lista_coincidencias = re.findall(palabra_a_buscar_minuscula, archivo_minuscula)\n",
    "        total_valores_encontrados = lista_coincidencias.count(palabra_a_buscar_minuscula)\n",
    "\n",
    "        return print(f\"La palabra {palabra_a_buscar_minuscula} aparece {total_valores_encontrados} veces\")\n",
    "\n",
    "\n",
    "\n",
    "        \n",
    "\n"
   ]
  },
  {
   "cell_type": "code",
   "execution_count": 15,
   "metadata": {},
   "outputs": [],
   "source": [
    "prueba = Estudio_textos(\"../data\", \"quijote\")"
   ]
  },
  {
   "cell_type": "code",
   "execution_count": 16,
   "metadata": {},
   "outputs": [],
   "source": [
    "leyendo_archivo = prueba.leer_fichero()"
   ]
  },
  {
   "cell_type": "code",
   "execution_count": null,
   "metadata": {},
   "outputs": [],
   "source": [
    "print(leyendo_archivo)"
   ]
  },
  {
   "cell_type": "code",
   "execution_count": 18,
   "metadata": {},
   "outputs": [],
   "source": [
    "leyendo_palabras = prueba.leer_palabras(3)"
   ]
  },
  {
   "cell_type": "code",
   "execution_count": 19,
   "metadata": {},
   "outputs": [
    {
     "data": {
      "text/plain": [
       "'Project Gutenberg Etext'"
      ]
     },
     "execution_count": 19,
     "metadata": {},
     "output_type": "execute_result"
    }
   ],
   "source": [
    "leyendo_palabras"
   ]
  },
  {
   "cell_type": "code",
   "execution_count": null,
   "metadata": {},
   "outputs": [],
   "source": [
    "leyendo_lineas = prueba.leer_lineas()"
   ]
  },
  {
   "cell_type": "code",
   "execution_count": 21,
   "metadata": {},
   "outputs": [],
   "source": [
    "libro_quijote = prueba.leer_libro()"
   ]
  },
  {
   "cell_type": "code",
   "execution_count": null,
   "metadata": {},
   "outputs": [],
   "source": [
    "libro_quijote"
   ]
  },
  {
   "cell_type": "code",
   "execution_count": 23,
   "metadata": {},
   "outputs": [
    {
     "name": "stdout",
     "output_type": "stream",
     "text": [
      "La palabra don quijote aparece 2013 veces\n"
     ]
    }
   ],
   "source": [
    "contando_palabras = prueba.numero_veces_palabra()"
   ]
  }
 ],
 "metadata": {
  "kernelspec": {
   "display_name": "Python 3",
   "language": "python",
   "name": "python3"
  },
  "language_info": {
   "codemirror_mode": {
    "name": "ipython",
    "version": 3
   },
   "file_extension": ".py",
   "mimetype": "text/x-python",
   "name": "python",
   "nbconvert_exporter": "python",
   "pygments_lexer": "ipython3",
   "version": "3.10.9"
  },
  "orig_nbformat": 4,
  "vscode": {
   "interpreter": {
    "hash": "31f2aee4e71d21fbe5cf8b01ff0e069b9275f58929596ceb00d14d90e3e16cd6"
   }
  }
 },
 "nbformat": 4,
 "nbformat_minor": 2
}
